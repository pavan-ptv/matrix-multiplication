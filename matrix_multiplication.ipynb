{
 "cells": [
  {
   "cell_type": "code",
   "execution_count": 1,
   "metadata": {},
   "outputs": [],
   "source": [
    "import numpy as np\n",
    "def mul_matrix():\n",
    "    '''this function returns a matrix which is a multiplication result of two matrices'''\n",
    "    lst1 = []\n",
    "    lst2 = []\n",
    "    a = int(input(\"enter row size of matrix1:\"))\n",
    "    b = int(input(\"enter column size of matrix1:\"))\n",
    "    i = 0\n",
    "    while i < a*b:\n",
    "        lst1.append(int(input(\"enter values for matrix1:\")))\n",
    "        i = i+1\n",
    "    print('matrix 1 is :')\n",
    "    arr1 = (np.array(lst1).reshape(a,b)) \n",
    "    print(arr1)\n",
    "    c = int(input(\"enter row size of matrix2:\"))\n",
    "    d = int(input(\"enter column size of matrix2:\"))\n",
    "    j = 0\n",
    "    while j < c*d:\n",
    "        lst2.append(int(input(\"enter values for matrix2:\")))\n",
    "        j = j+1\n",
    "    print('matrix 2 is :')\n",
    "    arr2 = (np.array(lst2).reshape(c,d)) \n",
    "    print(arr2)\n",
    "    if b != c:\n",
    "        print(\"columns are not equal\")\n",
    "    if b == c:\n",
    "        print(\"result is\")\n",
    "        print(arr1.dot(arr2))\n"
   ]
  },
  {
   "cell_type": "code",
   "execution_count": 2,
   "metadata": {},
   "outputs": [
    {
     "name": "stdout",
     "output_type": "stream",
     "text": [
      "enter row size of matrix1:3\n",
      "enter column size of matrix1:3\n",
      "enter values for matrix1:1\n",
      "enter values for matrix1:2\n",
      "enter values for matrix1:3\n",
      "enter values for matrix1:4\n",
      "enter values for matrix1:5\n",
      "enter values for matrix1:6\n",
      "enter values for matrix1:7\n",
      "enter values for matrix1:8\n",
      "enter values for matrix1:9\n",
      "matrix 1 is :\n",
      "[[1 2 3]\n",
      " [4 5 6]\n",
      " [7 8 9]]\n",
      "enter row size of matrix2:3\n",
      "enter column size of matrix2:3\n",
      "enter values for matrix2:9\n",
      "enter values for matrix2:8\n",
      "enter values for matrix2:7\n",
      "enter values for matrix2:6\n",
      "enter values for matrix2:5\n",
      "enter values for matrix2:4\n",
      "enter values for matrix2:3\n",
      "enter values for matrix2:2\n",
      "enter values for matrix2:1\n",
      "matrix 2 is :\n",
      "[[9 8 7]\n",
      " [6 5 4]\n",
      " [3 2 1]]\n",
      "result is\n",
      "[[ 30  24  18]\n",
      " [ 84  69  54]\n",
      " [138 114  90]]\n"
     ]
    }
   ],
   "source": [
    "mul_matrix()"
   ]
  },
  {
   "cell_type": "code",
   "execution_count": null,
   "metadata": {},
   "outputs": [],
   "source": []
  }
 ],
 "metadata": {
  "kernelspec": {
   "display_name": "Python 3",
   "language": "python",
   "name": "python3"
  },
  "language_info": {
   "codemirror_mode": {
    "name": "ipython",
    "version": 3
   },
   "file_extension": ".py",
   "mimetype": "text/x-python",
   "name": "python",
   "nbconvert_exporter": "python",
   "pygments_lexer": "ipython3",
   "version": "3.7.3"
  }
 },
 "nbformat": 4,
 "nbformat_minor": 2
}
